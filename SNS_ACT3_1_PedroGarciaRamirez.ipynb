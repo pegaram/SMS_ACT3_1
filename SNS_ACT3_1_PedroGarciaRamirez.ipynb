{
  "nbformat": 4,
  "nbformat_minor": 0,
  "metadata": {
    "colab": {
      "provenance": [],
      "toc_visible": true
    },
    "kernelspec": {
      "name": "python3",
      "display_name": "Python 3"
    },
    "language_info": {
      "name": "python"
    }
  },
  "cells": [
    {
      "cell_type": "markdown",
      "source": [
        "**Asignatura**: SNS  \n",
        "**Número de actividad**: Actividad 3_1  \n",
        "**Fecha**: 20/12/2024  \n",
        "**Alumno**: Pedro García Ramírez   "
      ],
      "metadata": {
        "id": "DyAEfraQjnbx"
      }
    },
    {
      "cell_type": "markdown",
      "source": [
        "24_25\n",
        "\n",
        "Actividad 3.1 - Métricas de error **para** los **problemas de regresión**\n",
        "\n",
        "A partir de los ejemplos indicados realizar los ejercicios propuestos"
      ],
      "metadata": {
        "id": "irnc2RYVuYVU"
      }
    },
    {
      "cell_type": "markdown",
      "source": [
        "# MAE: Mean Absolute Error (Error Absoluto Medio)\n",
        "\n",
        "La métrica **MAE** evalúa el promedio de las diferencias absolutas entre los valores reales y predichos, indicando qué tan cerca están las predicciones de los valores reales en promedio.\n",
        "## Fórmula:\n",
        "$$\n",
        "\\text{MAE} = \\frac{1}{n} \\sum_{i=1}^{n} \\left| y_{\\text{true}, i} - y_{\\text{pred}, i} \\right|\n",
        "$$\n",
        "### Términos:\n",
        "- **$ n $**: Número total de observaciones.\n",
        "- **$y_{\\text{true},i}$**: Valor verdadero del \\(i\\)-ésimo dato.\n",
        "- **$y_{\\text{pred},i}$**: Valor predicho del \\(i\\)-ésimo dato.\n",
        "- **$\\vert \\cdot \\vert$**: Valor absoluto de la diferencia entre los valores verdaderos y predichos.\n",
        "\n",
        "## Interpretación:\n",
        "Un valor de **MAE** más bajo indica un mejor ajuste del modelo a los datos, ya que los errores absolutos promedio son menores."
      ],
      "metadata": {
        "id": "217xxP6Pmt1n"
      }
    },
    {
      "cell_type": "code",
      "execution_count": 1,
      "metadata": {
        "colab": {
          "base_uri": "https://localhost:8080/"
        },
        "id": "jVLFdfzxdsfG",
        "outputId": "4abbde59-f57c-455a-c714-88ac149cfd26"
      },
      "outputs": [
        {
          "output_type": "execute_result",
          "data": {
            "text/plain": [
              "0.0"
            ]
          },
          "metadata": {},
          "execution_count": 1
        }
      ],
      "source": [
        "#Error absoluto medio - mae\n",
        "from sklearn.metrics import mean_absolute_error\n",
        "# Ejemplo 1\n",
        "y_true = [2.5, 0, 2, 8]\n",
        "y_pred = [2.5, 0, 2, 8]\n",
        "mean_absolute_error(y_true, y_pred)\n"
      ]
    },
    {
      "cell_type": "markdown",
      "source": [
        "## MAE 2 VECTORES"
      ],
      "metadata": {
        "id": "7lbK_rJcnNlc"
      }
    },
    {
      "cell_type": "code",
      "source": [
        "# Ejer 1: Crear dos vectores/arrays de valores ciertos y valores previstos, y calcular el mae.\n",
        "# ¿Qué valores deberían de tener el array pred para que el error fuese 0? ¿y para que error fuese de 0.25?\n",
        "from sklearn.metrics import mean_absolute_error\n",
        "\n",
        "# Valores ciertos (reales)\n",
        "y_true = [1, 2, 3, 4, 5]\n",
        "\n",
        "# Valores previstos (predicciones)\n",
        "y_pred = [0.1, 0.2, 0.3, 0.4, 0.5]\n",
        "\n",
        "# Valores previstos (predicciones) para mae 0%, mismos valores que y_true\n",
        "y_pred_0 = [1, 2, 3, 4, 5]\n",
        "\n",
        "# Valores previstos (predicciones) para mae 0.25%, añadir 0.25 a cada valor de y_true\n",
        "error_mae = 0.25 # Porcentaje de error que queremos obtener\n",
        "c = error_mae  # Error uniforme basado en el MAE deseado\n",
        "y_pred_025 = [val + c for val in y_true]\n",
        "\n",
        "#Calculos utilizando mean_absolute_error de sklearn.metrics\n",
        "mae = mean_absolute_error(y_true, y_pred) #Calculo de mae\n",
        "mae_0 = mean_absolute_error(y_true, y_pred_0) #Calculo de mae 0%\n",
        "mae_025 = mean_absolute_error(y_true, y_pred_025) #Calculo de mae 0.25%\n",
        "\n",
        "#Mostramos valores en pantalla\n",
        "print(f\"\"\"Tenemos un vector de valores verdaderos: \\033[1m{y_true}\\033[0m\n",
        "y otro de valores previstos: \\033[1m{y_pred}\\033[0m.\n",
        "El Error Absoluto Medio (\\033[1mMAE\\033[0m) es de: \\033[1m{mae:.3}%\\033[0m.\n",
        "\n",
        "Tenemos un vector de valores verdaderos: \\033[1m{y_true}\\033[0m.\n",
        "Para que el Error Aboludo Medio (\\033[1mMAE\\033[0m) sea \\033[1m{mae_0:.3}%\\033[0m,\n",
        "el vector de valores previstos debe coincidir\n",
        "exactamente con los valores verdaderos: \\033[1m{y_pred_0}\\033[0m.\n",
        "\n",
        "Por otro lado, si deseamos que el \\033[1mMAE\\033[0m sea de \\033[1m{mae_025}%\\033[0m,\n",
        "basta con introducir un error uniforme al vector de valores verdaderos.\n",
        "El nuevo vector de valores previstos sería: \\033[1m{y_pred_025}\\033[0m.\n",
        "\n",
        "\\033[1mNota\\033[0m: Los valores de las métricas de error,\n",
        "como MAE y MSE, están representados en \\033[1mtantos por 1\\033[0m. Por ejemplo:\n",
        "- Un valor de ( 0.25 ) equivale al ( 25% ).\n",
        "- Si deseas expresar el error como porcentaje, simplemente multiplica el resultado por 100.\n",
        "\"\"\")\n"
      ],
      "metadata": {
        "id": "67XK1bXegMai",
        "colab": {
          "base_uri": "https://localhost:8080/"
        },
        "outputId": "f97cbc3c-91e9-4000-a871-7a76c5e7fff0"
      },
      "execution_count": 2,
      "outputs": [
        {
          "output_type": "stream",
          "name": "stdout",
          "text": [
            "Tenemos un vector de valores verdaderos: \u001b[1m[1, 2, 3, 4, 5]\u001b[0m\n",
            "y otro de valores previstos: \u001b[1m[0.1, 0.2, 0.3, 0.4, 0.5]\u001b[0m.\n",
            "El Error Absoluto Medio (\u001b[1mMAE\u001b[0m) es de: \u001b[1m2.7%\u001b[0m.\n",
            "\n",
            "Tenemos un vector de valores verdaderos: \u001b[1m[1, 2, 3, 4, 5]\u001b[0m.\n",
            "Para que el Error Aboludo Medio (\u001b[1mMAE\u001b[0m) sea \u001b[1m0.0%\u001b[0m,\n",
            "el vector de valores previstos debe coincidir\n",
            "exactamente con los valores verdaderos: \u001b[1m[1, 2, 3, 4, 5]\u001b[0m.\n",
            "\n",
            "Por otro lado, si deseamos que el \u001b[1mMAE\u001b[0m sea de \u001b[1m0.25%\u001b[0m,\n",
            "basta con introducir un error uniforme al vector de valores verdaderos.\n",
            "El nuevo vector de valores previstos sería: \u001b[1m[1.25, 2.25, 3.25, 4.25, 5.25]\u001b[0m.\n",
            "\n",
            "\u001b[1mNota\u001b[0m: Los valores de las métricas de error,\n",
            "como MAE y MSE, están representados en \u001b[1mtantos por 1\u001b[0m. Por ejemplo:\n",
            "- Un valor de ( 0.25 ) equivale al ( 25% ).\n",
            "- Si deseas expresar el error como porcentaje, simplemente multiplica el resultado por 100.\n",
            "\n"
          ]
        }
      ]
    },
    {
      "cell_type": "markdown",
      "source": [
        "## MAE MATRIZ"
      ],
      "metadata": {
        "id": "f-W0811YnSRT"
      }
    },
    {
      "cell_type": "code",
      "source": [
        "# Ejemplo 2\n",
        "y_true = [[0.5, 1], [-1, 1], [7, -6]]\n",
        "y_pred = [[0, 2], [-1, 2], [8, -5]]\n",
        "mean_absolute_error(y_true, y_pred)"
      ],
      "metadata": {
        "id": "3LhzsD30f60T",
        "colab": {
          "base_uri": "https://localhost:8080/"
        },
        "outputId": "f94c001b-d157-4193-a432-b0aff66a8fbb"
      },
      "execution_count": 3,
      "outputs": [
        {
          "output_type": "execute_result",
          "data": {
            "text/plain": [
              "0.75"
            ]
          },
          "metadata": {},
          "execution_count": 3
        }
      ]
    },
    {
      "cell_type": "code",
      "source": [
        "# Ejer 2: Crear dos matrices/arrays de valores ciertos y valores previstos, y calcular el mae.\n",
        "# ¿Qué valores deberían de tener el array pred para que el error fuese 0? ¿y para que error fuese de 0.33?\n",
        "from sklearn.metrics import mean_absolute_error\n",
        "import numpy as np\n",
        "\n",
        "# Valores ciertos (reales): matriz de 2x3\n",
        "y_true = np.array([[1, 2, 3], [4, 5, 6]])\n",
        "\n",
        "# Valores previstos (predicciones)\n",
        "y_pred = np.array([[1.2, 2.2, 3.2], [4.2, 5.2, 6.2]])\n",
        "\n",
        "# Valores previstos (predicciones) para mae 0%: mismos valores que y_true\n",
        "y_pred_0 = np.array([[1, 2, 3], [4, 5, 6]])\n",
        "\n",
        "# Valores previstos (predicciones) para mae 0.33%: añadir 0.33 a cada valor de y_true\n",
        "error_mae = 0.33  # Porcentaje de error deseado\n",
        "c = error_mae  # Error uniforme basado en el MAE deseado\n",
        "y_pred_033 = y_true + c  # Añadir el mismo error a cada elemento\n",
        "\n",
        "# Cálculos utilizando mean_absolute_error de sklearn.metrics\n",
        "# Se aplanan las matrices para calcular el MAE porque la función trabaja con vectores\n",
        "mae = mean_absolute_error(y_true.flatten(), y_pred.flatten()) # Cálculo de mae\n",
        "mae_0 = mean_absolute_error(y_true.flatten(), y_pred_0.flatten()) # Cálculo de mae 0%\n",
        "mae_033 = round(mean_absolute_error(y_true.flatten(), y_pred_033.flatten()), 2) # Cálculo de mae 0.33% con dos decimales\n",
        "\n",
        "# Mostramos valores en pantalla\n",
        "print(f\"\"\"Tenemos una matriz de valores verdaderos:\n",
        "\\033[1m{y_true}\\033[0m\n",
        "y otra matriz de valores previstos:\n",
        "\\033[1m{y_pred}\\033[0m\n",
        "El Error Absoluto Medio (\\033[1mMAE\\033[0m) es de: \\033[1m{mae:.3}%\\033[0m.\n",
        "\n",
        "Tenemos una matriz de valores verdaderos:\n",
        "\\033[1m{y_true}\\033[0m\n",
        "Para que el Error Absoluto Medio (\\033[1mMAE\\033[0m) sea \\033[1m{mae_0:.3}%\\033[0m,\n",
        "la matriz de valores previstos debe coincidir exactamente con\n",
        "la matriz de valores verdaderos:\n",
        "\\033[1m{y_pred_0}\\033[0m.\n",
        "\n",
        "Por otro lado, si deseamos que el \\033[1mMAE\\033[0m sea de \\033[1m{mae_033}%\\033[0m,\n",
        "basta con introducir un error uniforme a la matriz de valores verdaderos.\n",
        "La nueva matriz de valores previstos sería:\n",
        "\\033[1m{y_pred_033}\\033[0m.\n",
        "\n",
        "\\033[1mNota\\033[0m: Los valores de las métricas de error,\n",
        "como MAE y MSE, están representados en \\033[1mtantos por 1\\033[0m. Por ejemplo:\n",
        "- Un valor de ( 0.33 ) equivale al ( 33% ).\n",
        "- Si deseas expresar el error como porcentaje, simplemente multiplica el resultado por 100.\n",
        "\"\"\")\n"
      ],
      "metadata": {
        "id": "LnPx6A4Astfq",
        "colab": {
          "base_uri": "https://localhost:8080/"
        },
        "outputId": "91999ba7-4962-45aa-ebb7-df990f3ead4d"
      },
      "execution_count": 5,
      "outputs": [
        {
          "output_type": "stream",
          "name": "stdout",
          "text": [
            "Tenemos una matriz de valores verdaderos:\n",
            "\u001b[1m[[1 2 3]\n",
            " [4 5 6]]\u001b[0m\n",
            "y otra matriz de valores previstos:\n",
            "\u001b[1m[[1.2 2.2 3.2]\n",
            " [4.2 5.2 6.2]]\u001b[0m\n",
            "El Error Absoluto Medio (\u001b[1mMAE\u001b[0m) es de: \u001b[1m0.2%\u001b[0m.\n",
            "\n",
            "Tenemos una matriz de valores verdaderos:\n",
            "\u001b[1m[[1 2 3]\n",
            " [4 5 6]]\u001b[0m\n",
            "Para que el Error Absoluto Medio (\u001b[1mMAE\u001b[0m) sea \u001b[1m0.0%\u001b[0m,\n",
            "la matriz de valores previstos debe coincidir exactamente con\n",
            "la matriz de valores verdaderos:\n",
            "\u001b[1m[[1 2 3]\n",
            " [4 5 6]]\u001b[0m.\n",
            "\n",
            "Por otro lado, si deseamos que el \u001b[1mMAE\u001b[0m sea de \u001b[1m0.33%\u001b[0m,\n",
            "basta con introducir un error uniforme a la matriz de valores verdaderos.\n",
            "La nueva matriz de valores previstos sería:\n",
            "\u001b[1m[[1.33 2.33 3.33]\n",
            " [4.33 5.33 6.33]]\u001b[0m.\n",
            "\n",
            "\u001b[1mNota\u001b[0m: Los valores de las métricas de error,\n",
            "como MAE y MSE, están representados en \u001b[1mtantos por 1\u001b[0m. Por ejemplo:\n",
            "- Un valor de ( 0.33 ) equivale al ( 33% ).\n",
            "- Si deseas expresar el error como porcentaje, simplemente multiplica el resultado por 100.\n",
            "\n"
          ]
        }
      ]
    },
    {
      "cell_type": "markdown",
      "source": [
        "# MSE: Mean Squared Error (Error Cuadrático Medio)\n",
        "El **MSE** es una métrica utilizada para medir el promedio de los errores al cuadrado entre los valores reales $( y_{\\text{true}} $) y los valores predichos $( y_{\\text{pred}} $).\n",
        "## Fórmula:\n",
        "$$\n",
        "\\text{MSE} = \\frac{1}{n} \\sum_{i=1}^{n} \\left( y_{\\text{true}, i} - y_{\\text{pred}, i} \\right)^2\n",
        "$$\n",
        "#### Términos:\n",
        "- **$ n $**: Número total de observaciones.\n",
        "- **$ y_{\\text{true}, i} $**: Valor verdadero del \\(i\\)-ésimo dato.\n",
        "- **$y_{\\text{pred}, i} $**: Valor predicho del \\(i\\)-ésimo dato.\n",
        "- **$ \\left( y_{\\text{true}, i} - y_{\\text{pred}, i} \\right)^2 $**: Cuadrado de la diferencia entre los valores reales y predichos.\n",
        "\n",
        "## Interpretación:\n",
        "El **MSE** mide el promedio de los errores al cuadrado, penalizando errores grandes más severamente que los pequeños.  \n",
        "- **Un valor de MSE más bajo indica un mejor ajuste del modelo a los datos.**\n",
        "- Es especialmente útil para detectar valores atípicos, ya que los errores grandes tienen un impacto mayor debido a la operación de elevar al cuadrado."
      ],
      "metadata": {
        "id": "QjNTB_BmmzxM"
      }
    },
    {
      "cell_type": "code",
      "source": [
        "# Error cuadrático medio - mse\n",
        "from sklearn.metrics import mean_squared_error\n",
        "y_true = [3, -0.5, 2, 7]\n",
        "y_pred = [2.5, 0.0, 2, 8]\n",
        "mean_squared_error(y_true, y_pred)\n"
      ],
      "metadata": {
        "colab": {
          "base_uri": "https://localhost:8080/"
        },
        "id": "59efr-GWgKP6",
        "outputId": "323ce99b-2834-4cbe-fb53-1c2e03b18271"
      },
      "execution_count": null,
      "outputs": [
        {
          "output_type": "execute_result",
          "data": {
            "text/plain": [
              "0.375"
            ]
          },
          "metadata": {},
          "execution_count": 62
        }
      ]
    },
    {
      "cell_type": "markdown",
      "source": [
        "## MSE 2 VECTORES"
      ],
      "metadata": {
        "id": "UGKseJUunY5R"
      }
    },
    {
      "cell_type": "code",
      "source": [
        "# Ejer 3: Crear dos vectores/arrays de valores ciertos y valores previstos, y calcular el mse.\n",
        "# ¿Qué valores deberían de tener el array pred para que el error fuese 0? ¿y para que error fuese de 0.25?\n",
        "# Nota: Es muy interesante comparar los resultados al aplicaer mae y mse sobre el mismo conjunto de datos. Podrás obervar\n",
        "# que mse \"penaliza más\" (es decir, el número que se obtiene es mayor) con las diferencias entre los valores originales y los predichos que mae\n",
        "from sklearn.metrics import mean_squared_error\n",
        "\n",
        "# Valores ciertos (reales): vector\n",
        "y_true = [1, 2, 3, 4, 5]\n",
        "\n",
        "# Valores previstos (predicciones)\n",
        "y_pred= [0.1, 0.2, 0.3, 0.4, 0.5]\n",
        "\n",
        "# Valores previstos (predicciones) para mse 0%: mismos valores que y_true\n",
        "y_pred_0 = [1, 2, 3, 4, 5]\n",
        "\n",
        "# Valores previstos (predicciones) para mse 25%: calcular un desplazamiento uniforme\n",
        "error_mse = 0.25 # Porcentaje de error que queremos obtener\n",
        "c = error_mse**0.5  # Error uniforme basado en el MSE deseado\n",
        "y_pred_025 = [val + c for val in y_true]\n",
        "\n",
        "# Cálculos utilizando mean_squared_error de sklearn.metrics\n",
        "mse = mean_squared_error(y_true, y_pred) # Cálculo de mse\n",
        "mse_0 = mean_squared_error(y_true, y_pred_0) # Cálculo de mse 0%\n",
        "mse_025 = mean_squared_error(y_true, y_pred_025) #Cálculo de mse 25%\n",
        "\n",
        "# Mostramos valores en pantalla\n",
        "print(f\"\"\"Tenemos un vector de valores verdaderos:\\n\\033[1m{y_true}\\033[0m\n",
        "y otro de valores previstos \\n\\033[1m{y_pred}\\033[0m.\n",
        "El Error Cuadrático Medio (\\033[1mMSE\\033[0m) es de: \\033[1m{mse:.3}%\\033[0m.\n",
        "\n",
        "Tenemos un vector de valores verdaderos:\\n\\033[1m{y_true}\\033[0m.\n",
        "Para que el Error Cuadrático Medio (\\033[1mMSE\\033[0m) sea \\033[1m{mse_0:.3}%\\033[0m,\n",
        "el vector de valores previstos debe coincidir exactamente con los valores verdaderos:\\n\\033[1m{y_pred_0}\\033[0m.\n",
        "\n",
        "Por otro lado, si deseamos que el \\033[1mMSE\\033[0m sea de \\033[1m{mse_025}%\\033[0m,\n",
        "sabemos que el MSE es el promedio de los \\033[1merrores cuadrados\\033[0m.\n",
        "Si introducimos un error uniforme \\033[1m{c}\\033[0m a cada elemento del vector,\n",
        "este \\033[1m{c}\\033[0m será igual a la \\033[1mraíz cuadrada\\033[0m del MSE propuesto.\n",
        "Al sumar este error uniforme al vector de valores verdaderos,\n",
        "obtenemos el nuevo vector de valores previstos:\n",
        "\\033[1m{y_pred_025}\\033[0m.\n",
        "\n",
        "\\033[1mNota\\033[0m: Los valores de las métricas de error,\n",
        "como MAE y MSE, están representados en \\033[1mtantos por 1\\033[0m. Por ejemplo:\n",
        "- Un valor de ( 0.25 ) equivale al ( 25% ).\n",
        "- Si deseas expresar el error como porcentaje, simplemente multiplica el resultado por 100.\n",
        "\"\"\")"
      ],
      "metadata": {
        "id": "FLZt6j17u7sE",
        "colab": {
          "base_uri": "https://localhost:8080/"
        },
        "outputId": "16b225b3-4f14-4c7f-b012-dde502bd31f2"
      },
      "execution_count": 6,
      "outputs": [
        {
          "output_type": "stream",
          "name": "stdout",
          "text": [
            "Tenemos un vector de valores verdaderos:\n",
            "\u001b[1m[1, 2, 3, 4, 5]\u001b[0m\n",
            "y otro de valores previstos \n",
            "\u001b[1m[0.1, 0.2, 0.3, 0.4, 0.5]\u001b[0m.\n",
            "El Error Cuadrático Medio (\u001b[1mMSE\u001b[0m) es de: \u001b[1m8.91%\u001b[0m.\n",
            "\n",
            "Tenemos un vector de valores verdaderos:\n",
            "\u001b[1m[1, 2, 3, 4, 5]\u001b[0m.\n",
            "Para que el Error Cuadrático Medio (\u001b[1mMSE\u001b[0m) sea \u001b[1m0.0%\u001b[0m,\n",
            "el vector de valores previstos debe coincidir exactamente con los valores verdaderos:\n",
            "\u001b[1m[1, 2, 3, 4, 5]\u001b[0m.\n",
            "\n",
            "Por otro lado, si deseamos que el \u001b[1mMSE\u001b[0m sea de \u001b[1m0.25%\u001b[0m,\n",
            "sabemos que el MSE es el promedio de los \u001b[1merrores cuadrados\u001b[0m.\n",
            "Si introducimos un error uniforme \u001b[1m0.5\u001b[0m a cada elemento del vector,\n",
            "este \u001b[1m0.5\u001b[0m será igual a la \u001b[1mraíz cuadrada\u001b[0m del MSE propuesto.\n",
            "Al sumar este error uniforme al vector de valores verdaderos,\n",
            "obtenemos el nuevo vector de valores previstos:\n",
            "\u001b[1m[1.5, 2.5, 3.5, 4.5, 5.5]\u001b[0m.\n",
            "\n",
            "\u001b[1mNota\u001b[0m: Los valores de las métricas de error,\n",
            "como MAE y MSE, están representados en \u001b[1mtantos por 1\u001b[0m. Por ejemplo:\n",
            "- Un valor de ( 0.25 ) equivale al ( 25% ).\n",
            "- Si deseas expresar el error como porcentaje, simplemente multiplica el resultado por 100.\n",
            "\n"
          ]
        }
      ]
    },
    {
      "cell_type": "markdown",
      "source": [
        "## MSE MATRIZ"
      ],
      "metadata": {
        "id": "cOoXkuWdndTf"
      }
    },
    {
      "cell_type": "code",
      "source": [
        "# Ejer 4: Crear dos matrices/arrays de valores ciertos y valores previstos, y calcular el mse.\n",
        "# ¿Qué valores deberían de tener el array pred para que el error fuese 0? ¿y para que error fuese de 0.33?\n",
        "from sklearn.metrics import mean_squared_error\n",
        "import numpy as np\n",
        "\n",
        "# Valores ciertos (reales): matriz\n",
        "y_true = np.array([[1, 2, 3], [4, 5, 6]])\n",
        "\n",
        "# Valores previstos (predicciones)\n",
        "y_pred = np.array([[1.2, 2.2, 3.2], [4.2, 5.2, 6.2]])\n",
        "\n",
        "# Valores previstos (predicciones) para mse 0%: mismos valores que y_true\n",
        "y_pred_0 = np.array([[1, 2, 3], [4, 5, 6]])\n",
        "\n",
        "# Valores previstos (predicciones) para mse 33%: calcular un desplazamiento uniforme\n",
        "error_mse = 0.33  # Porcentaje de error que queremos obtener\n",
        "c = error_mse**0.5  # Error uniforme basado en el MSE deseado\n",
        "y_pred_033 = y_true + c  # Sumamos el desplazamiento uniforme a cada elemento\n",
        "\n",
        "# Cálculos utilizando mean_squared_error de sklearn.metrics\n",
        "mse = mean_squared_error(y_true.flatten(), y_pred.flatten())  # Cálculo de mse\n",
        "mse_0 = mean_squared_error(y_true.flatten(), y_pred_0.flatten())  # Cálculo de mse 0%\n",
        "mse_033 = mean_squared_error(y_true.flatten(), y_pred_033.flatten())  # Cálculo de mse 33%\n",
        "\n",
        "# Mostramos valores en pantalla\n",
        "print(f\"\"\"Tenemos una matriz de valores verdaderos:\n",
        "\\033[1m{y_true}\\033[0m\n",
        "y otra matriz de valores previstos:\n",
        "\\033[1m{y_pred}\\033[0m\n",
        "El Error Cuadrático Medio (\\033[1mMSE\\033[0m) es de: \\033[1m{mse:.3}%\\033[0m\n",
        "\n",
        "Tenemos una matriz de valores verdaderos:\\n\\033[1m{y_true}\\033[0m.\n",
        "Para que el Error Cuadrático Medio (\\033[1mMSE\\033[0m) sea \\033[1m{mse_0:.3}%\\033[0m,\n",
        "la matriz de valores previstos debe coincidir exactamente con los valores verdaderos:\\n\\033[1m{y_pred_0}\\033[0m.\n",
        "\n",
        "Por otro lado, si deseamos que el \\033[1mMSE\\033[0m sea de \\033[1m{mse_033:.3}%\\033[0m,\n",
        "sabemos que el \\033[1mMSE\\033[0m es el promedio de los \\033[1merrores cuadrados\\033[0m.\n",
        "Si introducimos un error uniforme \\033[1m{c:.4}\\033[0m a cada elemento de la matriz,\n",
        "este \\033[1m{c:.4}\\033[0m será igual a la \\033[1mraíz cuadrada\\033[0m del \\033[1mMSE\\033[0m propuesto.\n",
        "Al sumar este error uniforme a la matriz de valores verdaderos,\n",
        "obtenemos la nueva matriz de valores previstos:\\n\\033[1m{y_pred_033}\\033[0m.\n",
        "\n",
        "\\033[1mNota\\033[0m: Los valores de las métricas de error,\n",
        "como MAE y MSE, están representados en \\033[1mtantos por 1\\033[0m. Por ejemplo:\n",
        "- Un valor de ( 0.33 ) equivale al ( 33% ).\n",
        "- Si deseas expresar el error como porcentaje, simplemente multiplica el resultado por 100.\n",
        "\"\"\")"
      ],
      "metadata": {
        "id": "M9nZd4nLvIRB",
        "colab": {
          "base_uri": "https://localhost:8080/"
        },
        "outputId": "66efbcaa-a477-43ed-b334-779898f105e1"
      },
      "execution_count": 7,
      "outputs": [
        {
          "output_type": "stream",
          "name": "stdout",
          "text": [
            "Tenemos una matriz de valores verdaderos:\n",
            "\u001b[1m[[1 2 3]\n",
            " [4 5 6]]\u001b[0m\n",
            "y otra matriz de valores previstos:\n",
            "\u001b[1m[[1.2 2.2 3.2]\n",
            " [4.2 5.2 6.2]]\u001b[0m\n",
            "El Error Cuadrático Medio (\u001b[1mMSE\u001b[0m) es de: \u001b[1m0.04%\u001b[0m\n",
            "\n",
            "Tenemos una matriz de valores verdaderos:\n",
            "\u001b[1m[[1 2 3]\n",
            " [4 5 6]]\u001b[0m.\n",
            "Para que el Error Cuadrático Medio (\u001b[1mMSE\u001b[0m) sea \u001b[1m0.0%\u001b[0m,\n",
            "la matriz de valores previstos debe coincidir exactamente con los valores verdaderos:\n",
            "\u001b[1m[[1 2 3]\n",
            " [4 5 6]]\u001b[0m.\n",
            "\n",
            "Por otro lado, si deseamos que el \u001b[1mMSE\u001b[0m sea de \u001b[1m0.33%\u001b[0m,\n",
            "sabemos que el \u001b[1mMSE\u001b[0m es el promedio de los \u001b[1merrores cuadrados\u001b[0m.\n",
            "Si introducimos un error uniforme \u001b[1m0.5745\u001b[0m a cada elemento de la matriz,\n",
            "este \u001b[1m0.5745\u001b[0m será igual a la \u001b[1mraíz cuadrada\u001b[0m del \u001b[1mMSE\u001b[0m propuesto.\n",
            "Al sumar este error uniforme a la matriz de valores verdaderos,\n",
            "obtenemos la nueva matriz de valores previstos:\n",
            "\u001b[1m[[1.57445626 2.57445626 3.57445626]\n",
            " [4.57445626 5.57445626 6.57445626]]\u001b[0m.\n",
            "\n",
            "\u001b[1mNota\u001b[0m: Los valores de las métricas de error,\n",
            "como MAE y MSE, están representados en \u001b[1mtantos por 1\u001b[0m. Por ejemplo:\n",
            "- Un valor de ( 0.33 ) equivale al ( 33% ).\n",
            "- Si deseas expresar el error como porcentaje, simplemente multiplica el resultado por 100.\n",
            "\n"
          ]
        }
      ]
    },
    {
      "cell_type": "markdown",
      "source": [
        "# MAPE: Mean Absolute Percentage Error (Error Porcentual Absoluto Medio)\n",
        "\n",
        "El **MAPE** es una métrica utilizada para medir la magnitud promedio del error relativo absoluto, expresado como porcentaje, entre los valores reales $( y_{\\text{true}} $) y los valores predichos $( y_{\\text{pred}} $).\n",
        "\n",
        "## Fórmula:\n",
        "$$\n",
        "\\text{MAPE} = \\frac{1}{n} \\sum_{i=1}^{n} \\left| \\frac{y_{\\text{true}, i} - y_{\\text{pred}, i}}{y_{\\text{true}, i}} \\right| \\times 100\n",
        "$$\n",
        "\n",
        "### Términos:\n",
        "- **$ n $**: Número total de observaciones.\n",
        "- **$ y_{\\text{true}, i} $**: Valor verdadero del \\(i\\)-ésimo dato.\n",
        "- **$ y_{\\text{pred}, i} $**: Valor predicho del \\(i\\)-ésimo dato.\n",
        "- **$ \\left| \\cdot \\right| $**: Valor absoluto.\n",
        "- **$ \\frac{y_{\\text{true}, i} - y_{\\text{pred}, i}}{y_{\\text{true}, i}} $**: Error relativo entre el valor verdadero y el predicho.\n",
        "\n",
        "## Interpretación:\n",
        "El **MAPE** evalúa el error promedio relativo en términos porcentuales.  \n",
        "- **Un valor de MAPE bajo indica una alta precisión** del modelo.  \n",
        "- **Un MAPE de 0%** significa que las predicciones coinciden exactamente con los valores reales.  \n",
        "- Es importante tener en cuenta que el **MAPE no está definido si $ y_{\\text{true}, i} = 0 $**, ya que implica una división por cero.\n"
      ],
      "metadata": {
        "id": "0Ph3zUPW25wY"
      }
    },
    {
      "cell_type": "code",
      "source": [
        "# Error de porcentaje absoluto medio - mape\n",
        "from sklearn.metrics import mean_absolute_percentage_error\n",
        "y_true = [3, -0.5, 2, 7]\n",
        "y_pred = [2.5, 0.0, 2, 8]\n",
        "mean_absolute_percentage_error(y_true, y_pred)"
      ],
      "metadata": {
        "colab": {
          "base_uri": "https://localhost:8080/"
        },
        "id": "0j3DDJPnBTmF",
        "outputId": "076e43d9-91a4-4929-b458-ca9188d73dc0"
      },
      "execution_count": null,
      "outputs": [
        {
          "output_type": "execute_result",
          "data": {
            "text/plain": [
              "0.3273809523809524"
            ]
          },
          "metadata": {},
          "execution_count": 68
        }
      ]
    },
    {
      "cell_type": "markdown",
      "source": [
        "## MAPE 2 VECTORES"
      ],
      "metadata": {
        "id": "rCEzqwSOnhF0"
      }
    },
    {
      "cell_type": "code",
      "source": [
        "# Ejer 5: Crear dos vectores/arrays de valores ciertos y valores previstos, y calcular el mape.\n",
        "# ¿Qué valores deberían de tener el array pred para que el error fuese 0?\n",
        "from sklearn.metrics import mean_absolute_percentage_error\n",
        "\n",
        "# Valores ciertos (reales)\n",
        "y_true = [1, 2, 3, 4, 5]\n",
        "\n",
        "# Valores previstos (predicciones)\n",
        "y_pred = [2, 4, 6, 8, 10]\n",
        "\n",
        "# Valores previstos (predicciones) para mape 0%: mismos valores que y_true\n",
        "y_pred_0 = [1, 2, 3, 4, 5]\n",
        "\n",
        "# Cálculo del MAPE utilizando mean_absolute_percentage_error de sklearn.metrics\n",
        "mape = mean_absolute_percentage_error(y_true, y_pred)  # Cálculo de mape\n",
        "mape_0 = mean_absolute_percentage_error(y_true, y_pred_0)  # Cálculo de mape 0%\n",
        "\n",
        "\n",
        "# Mostramos valores en pantalla\n",
        "print(f\"\"\"Tenemos un vector de valores verdaderos:\n",
        "\\033[1m{y_true}\\033[0m\n",
        "y otro vector de valores previstos:\n",
        "\\033[1m{y_pred}\\033[0m\n",
        "El Error Porcentual Absoluto Medio (\\033[1mMAPE\\033[0m) es de: \\033[1m{mape:.2}%\\033[0m\n",
        "\n",
        "Tenemos un vector de valores verdaderos:\\n\\033[1m{y_true}\\033[0m\n",
        "Para que el Error Porcentual Absoluto Medio (\\033[1mMAPE\\033[0m) sea \\033[1m{mape_0:.3}%\\033[0m,\n",
        "el vector de valores previstos debe coincidir\n",
        "con el vector de valores verdaderos:\n",
        "\\033[1m{y_pred_0}\\033[0m\n",
        "\"\"\")"
      ],
      "metadata": {
        "id": "0vsYXdRqB0TE",
        "colab": {
          "base_uri": "https://localhost:8080/"
        },
        "outputId": "545c7c14-edde-47c4-d33b-ab53ce0520e7"
      },
      "execution_count": 8,
      "outputs": [
        {
          "output_type": "stream",
          "name": "stdout",
          "text": [
            "Tenemos un vector de valores verdaderos:\n",
            "\u001b[1m[1, 2, 3, 4, 5]\u001b[0m\n",
            "y otro vector de valores previstos:\n",
            "\u001b[1m[2, 4, 6, 8, 10]\u001b[0m\n",
            "El Error Porcentual Absoluto Medio (\u001b[1mMAPE\u001b[0m) es de: \u001b[1m1.0%\u001b[0m\n",
            "\n",
            "Tenemos un vector de valores verdaderos:\n",
            "\u001b[1m[1, 2, 3, 4, 5]\u001b[0m\n",
            "Para que el Error Porcentual Absoluto Medio (\u001b[1mMAPE\u001b[0m) sea \u001b[1m0.0%\u001b[0m,\n",
            "el vector de valores previstos debe coincidir\n",
            "con el vector de valores verdaderos:\n",
            "\u001b[1m[1, 2, 3, 4, 5]\u001b[0m\n",
            "\n"
          ]
        }
      ]
    },
    {
      "cell_type": "markdown",
      "source": [
        "## MAPE MATRIZ"
      ],
      "metadata": {
        "id": "KE92SYWWnk2_"
      }
    },
    {
      "cell_type": "code",
      "source": [
        "# Ejer 6: Crear dos matrices/arrays de valores ciertos y valores previstos, y calcular el MAPE.\n",
        "# ¿Qué valores deberían de tener el array pred para que el error fuese 0?\n",
        "from sklearn.metrics import mean_absolute_percentage_error\n",
        "import numpy as np\n",
        "\n",
        "# Valores ciertos (reales): matriz\n",
        "y_true = np.array([[1, 2, 3], [4, 5, 6]])\n",
        "\n",
        "# Valores previstos (predicciones)\n",
        "y_pred = np.array([[1.2, 2.2, 3.2], [4.2, 5.2, 6.2]])\n",
        "\n",
        "# Valores previstos (predicciones) para mape 0%: mismos valores que y_true\n",
        "y_pred_0 = np.array([[1, 2, 3], [4, 5, 6]])\n",
        "\n",
        "# Cálculo del MAPE utilizando mean_absolute_percentage_error de sklearn.metrics\n",
        "mape = mean_absolute_percentage_error(y_true.flatten(), y_pred.flatten())  # Cálculo de mape\n",
        "mape_0 = mean_absolute_percentage_error(y_true.flatten(), y_pred_0.flatten())  # Cálculo de mape 0%\n",
        "\n",
        "# Mostramos valores en pantalla\n",
        "print(f\"\"\"Tenemos una matriz de valores verdaderos:\n",
        "\\033[1m{y_true}\\033[0m\n",
        "y otra matirz de valores previstos:\n",
        "\\033[1m{y_pred}\\033[0m\n",
        "El Error Porcentual Absoluto Medio (\\033[1mMAPE\\033[0m) es de: \\033[1m{mape:.2}%\\033[0m\n",
        "\n",
        "Tenemos una matriz de valores verdaderos:\\n\\033[1m{y_true}\\033[0m\n",
        "Para que el Error Porcentual Absoluto Medio (\\033[1mMAPE\\033[0m) sea \\033[1m{mape_0:.2}%\\033[0m,\n",
        "la matriz de valores previstos debe coincidir exactamente con los valores verdaderos:\\n\\033[1m{y_pred_0}\\033[0m\n",
        "\"\"\")"
      ],
      "metadata": {
        "id": "085pmFVO-cA3",
        "colab": {
          "base_uri": "https://localhost:8080/"
        },
        "outputId": "7b77387e-92f6-4ab9-eb83-84e6c47c37b3"
      },
      "execution_count": 9,
      "outputs": [
        {
          "output_type": "stream",
          "name": "stdout",
          "text": [
            "Tenemos una matriz de valores verdaderos:\n",
            "\u001b[1m[[1 2 3]\n",
            " [4 5 6]]\u001b[0m\n",
            "y otra matirz de valores previstos:\n",
            "\u001b[1m[[1.2 2.2 3.2]\n",
            " [4.2 5.2 6.2]]\u001b[0m\n",
            "El Error Porcentual Absoluto Medio (\u001b[1mMAPE\u001b[0m) es de: \u001b[1m0.082%\u001b[0m\n",
            "\n",
            "Tenemos una matriz de valores verdaderos:\n",
            "\u001b[1m[[1 2 3]\n",
            " [4 5 6]]\u001b[0m\n",
            "Para que el Error Porcentual Absoluto Medio (\u001b[1mMAPE\u001b[0m) sea \u001b[1m0.0%\u001b[0m,\n",
            "la matriz de valores previstos debe coincidir exactamente con los valores verdaderos:\n",
            "\u001b[1m[[1 2 3]\n",
            " [4 5 6]]\u001b[0m\n",
            "\n"
          ]
        }
      ]
    }
  ]
}